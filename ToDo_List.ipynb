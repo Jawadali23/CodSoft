{
 "cells": [
  {
   "cell_type": "code",
   "execution_count": 1,
   "id": "2a690007-f4d8-4e5f-9d29-a40ba95825fd",
   "metadata": {},
   "outputs": [],
   "source": [
    "#Improts:"
   ]
  },
  {
   "cell_type": "code",
   "execution_count": 2,
   "id": "83af0a4a-8790-418b-acb6-6c526df3d09b",
   "metadata": {},
   "outputs": [],
   "source": [
    "from tkinter import *\n",
    "from tkinter.font import Font\n",
    "from tkinter import filedialog\n",
    "import pickle"
   ]
  },
  {
   "cell_type": "code",
   "execution_count": 3,
   "id": "ec9d2bee-e61f-4b59-82a7-f497b67ea9e0",
   "metadata": {},
   "outputs": [],
   "source": [
    "#Tkinter Setup:"
   ]
  },
  {
   "cell_type": "code",
   "execution_count": 4,
   "id": "5ab490ee-3852-459b-a230-3d325bcec800",
   "metadata": {},
   "outputs": [],
   "source": [
    "root=Tk()\n",
    "root.title(\"To_Do List\")\n",
    "my_font=Font(family= \"Arial\",size=20)"
   ]
  },
  {
   "cell_type": "code",
   "execution_count": 5,
   "id": "27eee780-9936-4eb1-8505-d053e67f4ee9",
   "metadata": {},
   "outputs": [],
   "source": [
    "my_frame=Frame(root,bg='lightgray')\n",
    "my_frame.pack(pady=10)"
   ]
  },
  {
   "cell_type": "code",
   "execution_count": 6,
   "id": "e29b937a-902c-4ff1-ac1f-4a014df4175a",
   "metadata": {},
   "outputs": [],
   "source": [
    "# Listbox Setup:"
   ]
  },
  {
   "cell_type": "code",
   "execution_count": 7,
   "id": "40c63585-728c-46a0-a094-1f333013fb4d",
   "metadata": {},
   "outputs": [],
   "source": [
    "label=Label(root, text=\"Enter Item\", font=(\"Arial\",15),relief=FLAT)\n",
    "label.pack(side = TOP,pady=5)\n",
    "my_entry=Entry(root,font=('Arial', 18), width=30, bd=2, relief=SUNKEN)\n",
    "my_entry.pack(pady=15)"
   ]
  },
  {
   "cell_type": "code",
   "execution_count": 8,
   "id": "d0d5bf87-9df1-40bd-9e92-af480ea1eaeb",
   "metadata": {},
   "outputs": [],
   "source": [
    "button_frame=Frame(root)\n",
    "button_frame.pack(pady=20)"
   ]
  },
  {
   "cell_type": "code",
   "execution_count": 9,
   "id": "b879d9e8-b29a-4dd3-908a-3ac670d69bf1",
   "metadata": {},
   "outputs": [],
   "source": [
    "my_list=Listbox(my_frame,\n",
    "               font=my_font,\n",
    "                  width=40,\n",
    "                  height=8,\n",
    "                  bg='white',\n",
    "                  bd=0,\n",
    "                  fg='black',\n",
    "                  selectbackground='#a6a6a6',\n",
    "                  activestyle='none',\n",
    "                  highlightthickness=0\n",
    "               )"
   ]
  },
  {
   "cell_type": "code",
   "execution_count": 10,
   "id": "6a7a270b-6615-4e80-8220-7d318797e86f",
   "metadata": {},
   "outputs": [],
   "source": [
    "my_list.pack(side=LEFT,fill=BOTH)"
   ]
  },
  {
   "cell_type": "code",
   "execution_count": 11,
   "id": "d369e33e-1377-42c7-8727-710cfbdf2fc4",
   "metadata": {},
   "outputs": [],
   "source": [
    "# Scrollbar Setup:"
   ]
  },
  {
   "cell_type": "code",
   "execution_count": 12,
   "id": "164b505c-7131-42a2-9299-47b09b3da64c",
   "metadata": {},
   "outputs": [],
   "source": [
    "my_scrollbar= Scrollbar(my_frame)\n",
    "my_scrollbar.pack(side=RIGHT,fill=BOTH)"
   ]
  },
  {
   "cell_type": "code",
   "execution_count": 13,
   "id": "7fcc80e5-0d86-415f-aa63-0f40292b326a",
   "metadata": {},
   "outputs": [],
   "source": [
    "my_list.config(yscrollcommand=my_scrollbar.set)\n",
    "my_scrollbar.config(command=my_list.yview)"
   ]
  },
  {
   "cell_type": "code",
   "execution_count": 14,
   "id": "4bcb813c-edf1-41e8-9c04-7e953a3a3496",
   "metadata": {},
   "outputs": [],
   "source": [
    "# Functions:"
   ]
  },
  {
   "cell_type": "code",
   "execution_count": 15,
   "id": "71625398-aa49-4793-af17-b1d118007c80",
   "metadata": {},
   "outputs": [],
   "source": [
    "def add_item():\n",
    "    my_list.insert(END,my_entry.get())\n",
    "    my_entry.delete(0,END)\n",
    "    \n",
    "def delete_item():\n",
    "    my_list.delete(ANCHOR)\n",
    "    \n",
    "def cross_item():\n",
    "    my_list.itemconfig(\n",
    "        my_list.curselection(),fg='#dedede')\n",
    "    my_list.selection_clear(0,END)\n",
    "    \n",
    "def uncross_item():\n",
    "     my_list.itemconfig(\n",
    "        my_list.curselection(),fg='black')\n",
    "     my_list.selection_clear(0,END)\n",
    "    \n",
    "def delete_cross():\n",
    "    count=0\n",
    "    while count<my_list.size():\n",
    "        if my_list.itemcget(count,'fg')=='#dedede':\n",
    "            my_list.delete(my_list.index(count))\n",
    "        else:\n",
    "            count += 1  \n",
    "            \n",
    "def save_list():\n",
    "    file_name=filedialog.asksaveasfilename(\n",
    "        initialdir=\"C:/Users/jawad\",\n",
    "        title=\"Save File\",\n",
    "        filetypes=( (\"Dat Files\",\"*.dat\"),(\"All Files\",\"*.*\")))\n",
    "    if file_name:\n",
    "        if file_name.endswith(\".dat\"):\n",
    "            pass\n",
    "        else:\n",
    "            file_name=f'{file_name}.dat'\n",
    "    #Delete crossed off items before save        \n",
    "    count=0\n",
    "    while count<my_list.size():\n",
    "        if my_list.itemcget(count,'fg')=='#dedede':\n",
    "            my_list.delete(my_list.index(count))\n",
    "        else:\n",
    "            count += 1  \n",
    "    # grab all the stuff from the list\n",
    "    stuff = my_list.get(0,END)\n",
    "\n",
    "    #Open the file\n",
    "    output_file =open(file_name,'wb')\n",
    "    \n",
    "    #Actually add the stuff to the file\n",
    "    pickle.dump(stuff,output_file)\n",
    "    \n",
    "def open_list():\n",
    "    file_name=filedialog.askopenfilename(\n",
    "        initialdir=\"C:/Users/jawad\",\n",
    "        title=\"Open File\",\n",
    "        filetypes=((\"Dat Files\",\"*.dat\"),(\"All Files\",\"*.*\")))\n",
    "    if file_name:\n",
    "        #Delete currently open list\n",
    "        my_list.delete(0,END)\n",
    "        \n",
    "        #Open the file\n",
    "        input_file =open(file_name,'rb')\n",
    "\n",
    "        stuff = pickle.load(input_file)\n",
    "        for item in stuff:\n",
    "            my_list.insert(0, item)\n",
    "            \n",
    "def delete_list():\n",
    "    my_list.delete(0,END)\n",
    "\n",
    "def quit_application():\n",
    "    root.destroy()"
   ]
  },
  {
   "cell_type": "code",
   "execution_count": 16,
   "id": "4ff38d9f-6752-452e-9611-9eb19a3b1b62",
   "metadata": {},
   "outputs": [],
   "source": [
    "# Button Action:"
   ]
  },
  {
   "cell_type": "code",
   "execution_count": 17,
   "id": "f6a8a7f3-8244-42c0-80b5-e89e60cf363d",
   "metadata": {},
   "outputs": [],
   "source": [
    "add_button= Button(button_frame,text='Add item',command=add_item)\n",
    "delete_button= Button(button_frame,text='Delete item',command=delete_item)\n",
    "cross_button= Button(button_frame,text='Cross item',command=cross_item)\n",
    "uncross_button= Button(button_frame,text='Uncross item',command=uncross_item)\n",
    "delete_crossed_button= Button(button_frame,text='Delete cross item',command=delete_cross)"
   ]
  },
  {
   "cell_type": "code",
   "execution_count": 18,
   "id": "8cd4079f-930d-45e3-8f4e-60605a21bfb7",
   "metadata": {},
   "outputs": [],
   "source": [
    "add_button.grid(row=0,column=0)\n",
    "delete_button.grid(row=0,column=1,padx=20)\n",
    "cross_button.grid(row=0,column=2)\n",
    "uncross_button.grid(row=0,column=3,padx=20)\n",
    "delete_crossed_button.grid(row=0,column=4)"
   ]
  },
  {
   "cell_type": "code",
   "execution_count": 19,
   "id": "da28bd5e-3043-4855-8f83-e11bcabcede2",
   "metadata": {},
   "outputs": [],
   "source": [
    "# Meun Options:"
   ]
  },
  {
   "cell_type": "code",
   "execution_count": 20,
   "id": "268effa3-9bd5-4129-8430-14403dbe337e",
   "metadata": {},
   "outputs": [],
   "source": [
    "my_menu=Menu(root)\n",
    "root.config(menu=my_menu)"
   ]
  },
  {
   "cell_type": "code",
   "execution_count": 21,
   "id": "72f30d27-cf9f-4b95-9746-be1ea574f980",
   "metadata": {},
   "outputs": [],
   "source": [
    "file_menu=Menu(my_menu,tearoff=False)\n",
    "my_menu.add_cascade(label='File',menu=file_menu)"
   ]
  },
  {
   "cell_type": "code",
   "execution_count": 22,
   "id": "c04aaf94-e7b9-41f8-96ab-4e379384176e",
   "metadata": {},
   "outputs": [],
   "source": [
    "file_menu.add_command(label='Save List',command=save_list)\n",
    "file_menu.add_command(label='Open List',command=open_list)\n",
    "file_menu.add_separator()\n",
    "file_menu.add_command(label='Clear List',command=delete_list)\n",
    "file_menu.add_command(label='Quit',command=quit_application)"
   ]
  },
  {
   "cell_type": "code",
   "execution_count": 23,
   "id": "218596be-a9ad-4fc9-8095-2a242ba10958",
   "metadata": {},
   "outputs": [],
   "source": [
    "# Main Loop:"
   ]
  },
  {
   "cell_type": "code",
   "execution_count": 24,
   "id": "128fdad7-5341-4597-908a-11aa3e0ffeff",
   "metadata": {},
   "outputs": [],
   "source": [
    "root.mainloop()"
   ]
  }
 ],
 "metadata": {
  "kernelspec": {
   "display_name": "Python 3 (ipykernel)",
   "language": "python",
   "name": "python3"
  },
  "language_info": {
   "codemirror_mode": {
    "name": "ipython",
    "version": 3
   },
   "file_extension": ".py",
   "mimetype": "text/x-python",
   "name": "python",
   "nbconvert_exporter": "python",
   "pygments_lexer": "ipython3",
   "version": "3.11.5"
  }
 },
 "nbformat": 4,
 "nbformat_minor": 5
}
